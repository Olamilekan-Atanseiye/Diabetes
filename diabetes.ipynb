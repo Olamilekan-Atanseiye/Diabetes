{
 "cells": [
  {
   "cell_type": "code",
   "execution_count": 1,
   "metadata": {},
   "outputs": [],
   "source": [
    "import pandas as pd\n",
    "import numpy as np\n",
    "import matplotlib.pyplot as plt\n",
    "import seaborn as sns"
   ]
  },
  {
   "cell_type": "code",
   "execution_count": 2,
   "metadata": {},
   "outputs": [
    {
     "name": "stdout",
     "output_type": "stream",
     "text": [
      "C:\\Users\\Admin\n"
     ]
    }
   ],
   "source": [
    "cd "
   ]
  },
  {
   "cell_type": "code",
   "execution_count": 3,
   "metadata": {},
   "outputs": [
    {
     "name": "stdout",
     "output_type": "stream",
     "text": [
      "C:\\Users\\Admin\\Desktop\n"
     ]
    }
   ],
   "source": [
    "cd Desktop/"
   ]
  },
  {
   "cell_type": "code",
   "execution_count": 4,
   "metadata": {},
   "outputs": [
    {
     "name": "stdout",
     "output_type": "stream",
     "text": [
      "C:\\Users\\Admin\\Desktop\\Lekan\n"
     ]
    }
   ],
   "source": [
    "cd Lekan/"
   ]
  },
  {
   "cell_type": "code",
   "execution_count": 5,
   "metadata": {},
   "outputs": [
    {
     "name": "stdout",
     "output_type": "stream",
     "text": [
      "C:\\Users\\Admin\\Desktop\\Lekan\\Tech\n"
     ]
    }
   ],
   "source": [
    "cd Tech/"
   ]
  },
  {
   "cell_type": "code",
   "execution_count": 6,
   "metadata": {},
   "outputs": [
    {
     "name": "stdout",
     "output_type": "stream",
     "text": [
      "[WinError 267] The directory name is invalid: 'diabetes.txt'\n",
      "C:\\Users\\Admin\\Desktop\\Lekan\\Tech\n"
     ]
    }
   ],
   "source": [
    "cd diabetes.txt"
   ]
  },
  {
   "cell_type": "code",
   "execution_count": 7,
   "metadata": {},
   "outputs": [],
   "source": [
    "diabetes=pd.read_csv('diabetes.txt')"
   ]
  },
  {
   "cell_type": "code",
   "execution_count": 8,
   "metadata": {},
   "outputs": [
    {
     "data": {
      "text/html": [
       "<div>\n",
       "<style scoped>\n",
       "    .dataframe tbody tr th:only-of-type {\n",
       "        vertical-align: middle;\n",
       "    }\n",
       "\n",
       "    .dataframe tbody tr th {\n",
       "        vertical-align: top;\n",
       "    }\n",
       "\n",
       "    .dataframe thead th {\n",
       "        text-align: right;\n",
       "    }\n",
       "</style>\n",
       "<table border=\"1\" class=\"dataframe\">\n",
       "  <thead>\n",
       "    <tr style=\"text-align: right;\">\n",
       "      <th></th>\n",
       "      <th>PatientID</th>\n",
       "      <th>Pregnancies</th>\n",
       "      <th>PlasmaGlucose</th>\n",
       "      <th>DiastolicBloodPressure</th>\n",
       "      <th>TricepsThickness</th>\n",
       "      <th>SerumInsulin</th>\n",
       "      <th>BMI</th>\n",
       "      <th>DiabetesPedigree</th>\n",
       "      <th>Age</th>\n",
       "      <th>Diabetic</th>\n",
       "    </tr>\n",
       "  </thead>\n",
       "  <tbody>\n",
       "    <tr>\n",
       "      <th>0</th>\n",
       "      <td>1354778</td>\n",
       "      <td>0</td>\n",
       "      <td>171</td>\n",
       "      <td>80</td>\n",
       "      <td>34</td>\n",
       "      <td>23</td>\n",
       "      <td>43.509726</td>\n",
       "      <td>1.213191</td>\n",
       "      <td>21</td>\n",
       "      <td>0</td>\n",
       "    </tr>\n",
       "    <tr>\n",
       "      <th>1</th>\n",
       "      <td>1147438</td>\n",
       "      <td>8</td>\n",
       "      <td>92</td>\n",
       "      <td>93</td>\n",
       "      <td>47</td>\n",
       "      <td>36</td>\n",
       "      <td>21.240576</td>\n",
       "      <td>0.158365</td>\n",
       "      <td>23</td>\n",
       "      <td>0</td>\n",
       "    </tr>\n",
       "    <tr>\n",
       "      <th>2</th>\n",
       "      <td>1640031</td>\n",
       "      <td>7</td>\n",
       "      <td>115</td>\n",
       "      <td>47</td>\n",
       "      <td>52</td>\n",
       "      <td>35</td>\n",
       "      <td>41.511523</td>\n",
       "      <td>0.079019</td>\n",
       "      <td>23</td>\n",
       "      <td>0</td>\n",
       "    </tr>\n",
       "    <tr>\n",
       "      <th>3</th>\n",
       "      <td>1883350</td>\n",
       "      <td>9</td>\n",
       "      <td>103</td>\n",
       "      <td>78</td>\n",
       "      <td>25</td>\n",
       "      <td>304</td>\n",
       "      <td>29.582192</td>\n",
       "      <td>1.282870</td>\n",
       "      <td>43</td>\n",
       "      <td>1</td>\n",
       "    </tr>\n",
       "    <tr>\n",
       "      <th>4</th>\n",
       "      <td>1424119</td>\n",
       "      <td>1</td>\n",
       "      <td>85</td>\n",
       "      <td>59</td>\n",
       "      <td>27</td>\n",
       "      <td>35</td>\n",
       "      <td>42.604536</td>\n",
       "      <td>0.549542</td>\n",
       "      <td>22</td>\n",
       "      <td>0</td>\n",
       "    </tr>\n",
       "    <tr>\n",
       "      <th>...</th>\n",
       "      <td>...</td>\n",
       "      <td>...</td>\n",
       "      <td>...</td>\n",
       "      <td>...</td>\n",
       "      <td>...</td>\n",
       "      <td>...</td>\n",
       "      <td>...</td>\n",
       "      <td>...</td>\n",
       "      <td>...</td>\n",
       "      <td>...</td>\n",
       "    </tr>\n",
       "    <tr>\n",
       "      <th>14995</th>\n",
       "      <td>1490300</td>\n",
       "      <td>10</td>\n",
       "      <td>65</td>\n",
       "      <td>60</td>\n",
       "      <td>46</td>\n",
       "      <td>177</td>\n",
       "      <td>33.512468</td>\n",
       "      <td>0.148327</td>\n",
       "      <td>41</td>\n",
       "      <td>1</td>\n",
       "    </tr>\n",
       "    <tr>\n",
       "      <th>14996</th>\n",
       "      <td>1744410</td>\n",
       "      <td>2</td>\n",
       "      <td>73</td>\n",
       "      <td>66</td>\n",
       "      <td>27</td>\n",
       "      <td>168</td>\n",
       "      <td>30.132636</td>\n",
       "      <td>0.862252</td>\n",
       "      <td>38</td>\n",
       "      <td>1</td>\n",
       "    </tr>\n",
       "    <tr>\n",
       "      <th>14997</th>\n",
       "      <td>1742742</td>\n",
       "      <td>0</td>\n",
       "      <td>93</td>\n",
       "      <td>89</td>\n",
       "      <td>43</td>\n",
       "      <td>57</td>\n",
       "      <td>18.690683</td>\n",
       "      <td>0.427049</td>\n",
       "      <td>24</td>\n",
       "      <td>0</td>\n",
       "    </tr>\n",
       "    <tr>\n",
       "      <th>14998</th>\n",
       "      <td>1099353</td>\n",
       "      <td>0</td>\n",
       "      <td>132</td>\n",
       "      <td>98</td>\n",
       "      <td>18</td>\n",
       "      <td>161</td>\n",
       "      <td>19.791645</td>\n",
       "      <td>0.302257</td>\n",
       "      <td>23</td>\n",
       "      <td>0</td>\n",
       "    </tr>\n",
       "    <tr>\n",
       "      <th>14999</th>\n",
       "      <td>1386396</td>\n",
       "      <td>3</td>\n",
       "      <td>114</td>\n",
       "      <td>65</td>\n",
       "      <td>47</td>\n",
       "      <td>512</td>\n",
       "      <td>36.215437</td>\n",
       "      <td>0.147363</td>\n",
       "      <td>34</td>\n",
       "      <td>1</td>\n",
       "    </tr>\n",
       "  </tbody>\n",
       "</table>\n",
       "<p>15000 rows × 10 columns</p>\n",
       "</div>"
      ],
      "text/plain": [
       "       PatientID  Pregnancies  PlasmaGlucose  DiastolicBloodPressure  \\\n",
       "0        1354778            0            171                      80   \n",
       "1        1147438            8             92                      93   \n",
       "2        1640031            7            115                      47   \n",
       "3        1883350            9            103                      78   \n",
       "4        1424119            1             85                      59   \n",
       "...          ...          ...            ...                     ...   \n",
       "14995    1490300           10             65                      60   \n",
       "14996    1744410            2             73                      66   \n",
       "14997    1742742            0             93                      89   \n",
       "14998    1099353            0            132                      98   \n",
       "14999    1386396            3            114                      65   \n",
       "\n",
       "       TricepsThickness  SerumInsulin        BMI  DiabetesPedigree  Age  \\\n",
       "0                    34            23  43.509726          1.213191   21   \n",
       "1                    47            36  21.240576          0.158365   23   \n",
       "2                    52            35  41.511523          0.079019   23   \n",
       "3                    25           304  29.582192          1.282870   43   \n",
       "4                    27            35  42.604536          0.549542   22   \n",
       "...                 ...           ...        ...               ...  ...   \n",
       "14995                46           177  33.512468          0.148327   41   \n",
       "14996                27           168  30.132636          0.862252   38   \n",
       "14997                43            57  18.690683          0.427049   24   \n",
       "14998                18           161  19.791645          0.302257   23   \n",
       "14999                47           512  36.215437          0.147363   34   \n",
       "\n",
       "       Diabetic  \n",
       "0             0  \n",
       "1             0  \n",
       "2             0  \n",
       "3             1  \n",
       "4             0  \n",
       "...         ...  \n",
       "14995         1  \n",
       "14996         1  \n",
       "14997         0  \n",
       "14998         0  \n",
       "14999         1  \n",
       "\n",
       "[15000 rows x 10 columns]"
      ]
     },
     "execution_count": 8,
     "metadata": {},
     "output_type": "execute_result"
    }
   ],
   "source": [
    "diabetes"
   ]
  },
  {
   "cell_type": "code",
   "execution_count": 9,
   "metadata": {},
   "outputs": [
    {
     "name": "stdout",
     "output_type": "stream",
     "text": [
      "Patient 1 \n",
      " Features: [0.0, 171.0, 80.0, 34.0, 23.0, 43.50972593, 1.213191354, 21.0] \n",
      " Label: 0\n",
      "Patient 2 \n",
      " Features: [8.0, 92.0, 93.0, 47.0, 36.0, 21.24057571, 0.158364981, 23.0] \n",
      " Label: 0\n",
      "Patient 3 \n",
      " Features: [7.0, 115.0, 47.0, 52.0, 35.0, 41.51152348, 0.079018568, 23.0] \n",
      " Label: 0\n",
      "Patient 4 \n",
      " Features: [9.0, 103.0, 78.0, 25.0, 304.0, 29.58219193, 1.282869847, 43.0] \n",
      " Label: 1\n"
     ]
    }
   ],
   "source": [
    "features=['Pregnancies','PlasmaGlucose','DiastolicBloodPressure','TricepsThickness','SerumInsulin','BMI','DiabetesPedigree','Age']\n",
    "label='Diabetic'\n",
    "x,y=diabetes[features].values,diabetes[label].values\n",
    "\n",
    "for n in range(0,4):\n",
    "    print('Patient',str(n+1), '\\n Features:',list(x[n]), '\\n Label:',y[n])"
   ]
  },
  {
   "cell_type": "markdown",
   "metadata": {},
   "source": [
    "####  Comparing the features distribution for each label values\n"
   ]
  },
  {
   "cell_type": "code",
   "execution_count": 10,
   "metadata": {},
   "outputs": [
    {
     "data": {
      "image/png": "[encoded data removed]",
      "text/plain": [
       "<Figure size 576x360 with 1 Axes>"
      ]
     },
     "metadata": {
      "needs_background": "light"
     },
     "output_type": "display_data"
    },
    {
     "data": {
      "image/png": "[encoded data removed]",
      "text/plain": [
       "<Figure size 576x360 with 1 Axes>"
      ]
     },
     "metadata": {
      "needs_background": "light"
     },
     "output_type": "display_data"
    },
    {
     "data": {
      "image/png": "[encoded data removed]",
      "text/plain": [
       "<Figure size 576x360 with 1 Axes>"
      ]
     },
     "metadata": {
      "needs_background": "light"
     },
     "output_type": "display_data"
    },
    {
     "data": {
      "image/png": "[encoded data removed]",
      "text/plain": [
       "<Figure size 576x360 with 1 Axes>"
      ]
     },
     "metadata": {
      "needs_background": "light"
     },
     "output_type": "display_data"
    },
    {
     "data": {
      "image/png": "[encoded data removed]",
      "text/plain": [
       "<Figure size 576x360 with 1 Axes>"
      ]
     },
     "metadata": {
      "needs_background": "light"
     },
     "output_type": "display_data"
    },
    {
     "data": {
      "image/png": "[encoded data removed]",
      "text/plain": [
       "<Figure size 576x360 with 1 Axes>"
      ]
     },
     "metadata": {
      "needs_background": "light"
     },
     "output_type": "display_data"
    },
    {
     "data": {
      "image/png": "[encoded data removed]",
      "text/plain": [
       "<Figure size 576x360 with 1 Axes>"
      ]
     },
     "metadata": {
      "needs_background": "light"
     },
     "output_type": "display_data"
    },
    {
     "data": {
      "image/png": "[encoded data removed]",
      "text/plain": [
       "<Figure size 576x360 with 1 Axes>"
      ]
     },
     "metadata": {
      "needs_background": "light"
     },
     "output_type": "display_data"
    }
   ],
   "source": [
    "for col in features:\n",
    "    diabetes.boxplot(column=col,by=label,figsize=(8,5))"
   ]
  },
  {
   "cell_type": "code",
   "execution_count": 11,
   "metadata": {},
   "outputs": [
    {
     "name": "stdout",
     "output_type": "stream",
     "text": [
      "Traning Values: 10500 \n",
      "Testing Values: 4500\n"
     ]
    }
   ],
   "source": [
    "#traning and testing the data\n",
    "from sklearn.model_selection import train_test_split\n",
    "x_train,x_test,y_train,y_test=train_test_split(x,y,test_size=0.30,random_state=0)\n",
    "\n",
    "print('Traning Values:',x_train.shape[0],'\\nTesting Values:',x_test.shape[0])"
   ]
  },
  {
   "cell_type": "markdown",
   "metadata": {},
   "source": [
    "####  Train & Evaulate a Binary Classificatiton Model"
   ]
  },
  {
   "cell_type": "code",
   "execution_count": 12,
   "metadata": {},
   "outputs": [
    {
     "data": {
      "text/plain": [
       "LogisticRegression(C=100.0, solver='liblinear')"
      ]
     },
     "execution_count": 12,
     "metadata": {},
     "output_type": "execute_result"
    }
   ],
   "source": [
    "from sklearn.linear_model import LogisticRegression\n",
    "\n",
    "#set a regularization rate to counteract any bias in the sample\n",
    "reg=0.01\n",
    "\n",
    "#Training a logistic Reg model on the training set\n",
    "model=LogisticRegression(C=1/reg,solver='liblinear').fit(x_train,y_train)\n",
    "model"
   ]
  },
  {
   "cell_type": "code",
   "execution_count": 13,
   "metadata": {},
   "outputs": [
    {
     "name": "stdout",
     "output_type": "stream",
     "text": [
      "Actual. values: [0 0 1 1 1 1 0 0 1 0] \n",
      "Predict values: [0 0 0 1 1 0 0 0 1 0]\n"
     ]
    }
   ],
   "source": [
    "# get the predicted values\n",
    "pred=model.predict(x_test)\n",
    "print('Actual. values:',y_test[:10],'\\nPredict values:',pred[:10])"
   ]
  },
  {
   "cell_type": "code",
   "execution_count": 14,
   "metadata": {},
   "outputs": [
    {
     "name": "stdout",
     "output_type": "stream",
     "text": [
      "Accuracy: 0.7888888888888889\n"
     ]
    }
   ],
   "source": [
    "from sklearn.metrics import  accuracy_score\n",
    "print('Accuracy:',accuracy_score(y_test,pred))"
   ]
  },
  {
   "cell_type": "code",
   "execution_count": 15,
   "metadata": {},
   "outputs": [
    {
     "name": "stdout",
     "output_type": "stream",
     "text": [
      "              precision    recall  f1-score   support\n",
      "\n",
      "           0       0.81      0.88      0.85      2986\n",
      "           1       0.72      0.60      0.66      1514\n",
      "\n",
      "    accuracy                           0.79      4500\n",
      "   macro avg       0.77      0.74      0.75      4500\n",
      "weighted avg       0.78      0.79      0.78      4500\n",
      "\n"
     ]
    }
   ],
   "source": [
    "from sklearn.metrics import classification_report\n",
    "print(classification_report(y_test,pred))"
   ]
  },
  {
   "cell_type": "code",
   "execution_count": 16,
   "metadata": {},
   "outputs": [
    {
     "name": "stdout",
     "output_type": "stream",
     "text": [
      "Overall Precision: 0.7231012658227848\n",
      "Overall Recall: 0.6036988110964333\n"
     ]
    }
   ],
   "source": [
    "from sklearn.metrics import precision_score,recall_score\n",
    "print('Overall Precision:',precision_score(y_test,pred))\n",
    "print('Overall Recall:',recall_score(y_test,pred))"
   ]
  },
  {
   "cell_type": "code",
   "execution_count": 17,
   "metadata": {},
   "outputs": [
    {
     "data": {
      "text/plain": [
       "array([[2636,  350],\n",
       "       [ 600,  914]], dtype=int64)"
      ]
     },
     "execution_count": 17,
     "metadata": {},
     "output_type": "execute_result"
    }
   ],
   "source": [
    "from sklearn.metrics import confusion_matrix\n",
    "cm=confusion_matrix(y_test,pred)\n",
    "cm"
   ]
  },
  {
   "cell_type": "markdown",
   "metadata": {},
   "source": [
    "######  this model is too poor because about 600 pateint has diabetes which the model didn't detect and about 340 didn't have but the model predicted that have therefore resources will be wasted on them"
   ]
  },
  {
   "cell_type": "markdown",
   "metadata": {},
   "source": [
    "### to determine the predicted probability for 0-1"
   ]
  },
  {
   "cell_type": "code",
   "execution_count": 18,
   "metadata": {},
   "outputs": [
    {
     "name": "stdout",
     "output_type": "stream",
     "text": [
      "[[0.81673764 0.18326236]\n",
      " [0.96318178 0.03681822]\n",
      " [0.80901254 0.19098746]\n",
      " ...\n",
      " [0.60687742 0.39312258]\n",
      " [0.10607627 0.89392373]\n",
      " [0.63833786 0.36166214]]\n"
     ]
    }
   ],
   "source": [
    "y_score=model.predict_proba(x_test)\n",
    "print(y_score)"
   ]
  },
  {
   "cell_type": "markdown",
   "metadata": {},
   "source": [
    "######  the best way to improve our model is to evaluate the classifier to examin the TP and FP for a range of possible thresholds\n",
    "note that chaning the threshold will affect the whole model"
   ]
  },
  {
   "cell_type": "markdown",
   "metadata": {},
   "source": [
    "#####  Creating a ROC  chart Received Operation Characteristics "
   ]
  },
  {
   "cell_type": "code",
   "execution_count": 19,
   "metadata": {},
   "outputs": [
    {
     "data": {
      "image/png": "[encoded data removed]",
      "text/plain": [
       "<Figure size 432x432 with 1 Axes>"
      ]
     },
     "metadata": {
      "needs_background": "light"
     },
     "output_type": "display_data"
    }
   ],
   "source": [
    "from sklearn.metrics import roc_curve\n",
    "from sklearn.metrics import confusion_matrix\n",
    "\n",
    "#calu ROC curve\n",
    "fpr,tpr,thresholds=roc_curve(y_test,y_score[:,1])\n",
    "\n",
    "#plot ROC curve\n",
    "fig=plt.figure(figsize=(6,6))\n",
    "\n",
    "#plot the diagonal 50% line\n",
    "plt.plot([0,1],[0,1],'k--')\n",
    "\n",
    "#plot FPR and TPR achieved by thr model\n",
    "plt.plot(fpr,tpr)\n",
    "plt.xlabel('False Postive Rate')\n",
    "plt.ylabel('True Positive Rate')\n",
    "plt.title('ROC Curve');\n"
   ]
  },
  {
   "cell_type": "markdown",
   "metadata": {},
   "source": [
    "######  a perfect model would have a curve that goes straight up the left side and striagh across the top"
   ]
  },
  {
   "cell_type": "markdown",
   "metadata": {},
   "source": [
    "#### AUC Area Under the Curve quntifies the overall performance of the model"
   ]
  },
  {
   "cell_type": "code",
   "execution_count": 20,
   "metadata": {},
   "outputs": [
    {
     "name": "stdout",
     "output_type": "stream",
     "text": [
      "AUC: 0.8568296701206246\n"
     ]
    }
   ],
   "source": [
    "from sklearn.metrics import roc_auc_score\n",
    "auc=roc_auc_score(y_test,y_score[:,1])\n",
    "print('AUC:',auc)"
   ]
  },
  {
   "cell_type": "markdown",
   "metadata": {},
   "source": [
    "####  Perform Preprocessing in a pipeline"
   ]
  },
  {
   "cell_type": "code",
   "execution_count": 21,
   "metadata": {},
   "outputs": [
    {
     "data": {
      "text/plain": [
       "Pipeline(steps=[('preprocessor',\n",
       "                 ColumnTransformer(transformers=[('num',\n",
       "                                                  Pipeline(steps=[('scaler',\n",
       "                                                                   StandardScaler())]),\n",
       "                                                  [0, 1, 2, 3, 4, 5, 6]),\n",
       "                                                 ('cat',\n",
       "                                                  Pipeline(steps=[('onhot',\n",
       "                                                                   OneHotEncoder(handle_unknown='ignore'))]),\n",
       "                                                  [7])])),\n",
       "                ('logregressor',\n",
       "                 LogisticRegression(C=100.0, solver='liblinear'))])"
      ]
     },
     "execution_count": 21,
     "metadata": {},
     "output_type": "execute_result"
    }
   ],
   "source": [
    "#Train the model\n",
    "from sklearn.compose import ColumnTransformer\n",
    "from sklearn.pipeline import Pipeline\n",
    "from sklearn.preprocessing import StandardScaler,OneHotEncoder\n",
    "from sklearn.linear_model import LogisticRegression\n",
    "\n",
    "#Define Preprocessing for numeric columns(normalize them so they're on the same scale)\n",
    "num_features=[0,1,2,3,4,5,6]\n",
    "num_transformer=Pipeline(steps=[('scaler',StandardScaler())])\n",
    "\n",
    "#Define preprocessing for categorical features(encode the age column)\n",
    "categ_features=[7]\n",
    "categ_transformer=Pipeline(steps=[('onhot',OneHotEncoder(handle_unknown='ignore'))])\n",
    "\n",
    "#combine preprocessing steps\n",
    "preprocessor=ColumnTransformer(transformers=[('num',num_transformer,num_features),\n",
    "                                             ('cat',categ_transformer,categ_features)])\n",
    "\n",
    "#create preprocessing and training pipeline\n",
    "pipeline=Pipeline(steps=[('preprocessor',preprocessor),\n",
    "                  ('logregressor',LogisticRegression(C=1/reg,solver='liblinear'))])\n",
    "\n",
    "#fit the pipeline to train a logistic regression model on the training set\n",
    "model=pipeline.fit(x_train,(y_train))\n",
    "model"
   ]
  },
  {
   "cell_type": "markdown",
   "metadata": {},
   "source": [
    "### compare the pipline with previous model"
   ]
  },
  {
   "cell_type": "code",
   "execution_count": 22,
   "metadata": {},
   "outputs": [
    {
     "name": "stdout",
     "output_type": "stream",
     "text": [
      "Confusion matrix:\n",
      " [[2667  319]\n",
      " [ 406 1108]] \n",
      "\n",
      "Accuracy Score: 0.8388888888888889\n",
      "Overall Precision: 0.7764540995094604\n",
      "Overall Recall: 0.7318361955085865\n",
      "AUC: 0.9202442751333612\n"
     ]
    },
    {
     "data": {
      "image/png": "[encoded data removed]",
      "text/plain": [
       "<Figure size 432x432 with 1 Axes>"
      ]
     },
     "metadata": {
      "needs_background": "light"
     },
     "output_type": "display_data"
    }
   ],
   "source": [
    "#get prediction fromtest data\n",
    "pred=model.predict(x_test)\n",
    "y_score=model.predict_proba(x_test)\n",
    "cm=confusion_matrix(y_test,pred)\n",
    "\n",
    "#get evaluation metrics\n",
    "print('Confusion matrix:\\n',cm,'\\n')\n",
    "print('Accuracy Score:',accuracy_score(y_test,pred))\n",
    "print('Overall Precision:',precision_score(y_test,pred))\n",
    "print('Overall Recall:',recall_score(y_test,pred))\n",
    "auc=roc_auc_score(y_test,y_score[:,1])\n",
    "print('AUC:',auc)\n",
    "\n",
    "\n",
    "#calu ROC curve\n",
    "fpr,tpr,thresholds=roc_curve(y_test,y_score[:,1])\n",
    "\n",
    "#plot ROC curve\n",
    "fig=plt.figure(figsize=(6,6))\n",
    "\n",
    "#plot the diagonal 50% line\n",
    "plt.plot([0,1],[0,1],'k--')\n",
    "\n",
    "#plot FPR and TPR achieved by thr model\n",
    "plt.plot(fpr,tpr)\n",
    "plt.xlabel('False Postive Rate')\n",
    "plt.ylabel('True Positive Rate')\n",
    "plt.title('ROC Curve');"
   ]
  },
  {
   "cell_type": "markdown",
   "metadata": {},
   "source": [
    "#### Using another algorithm; ensmble: random forest classifer"
   ]
  },
  {
   "cell_type": "code",
   "execution_count": 23,
   "metadata": {},
   "outputs": [
    {
     "data": {
      "text/plain": [
       "Pipeline(steps=[('preprocessor',\n",
       "                 ColumnTransformer(transformers=[('num',\n",
       "                                                  Pipeline(steps=[('scaler',\n",
       "                                                                   StandardScaler())]),\n",
       "                                                  [0, 1, 2, 3, 4, 5, 6]),\n",
       "                                                 ('cat',\n",
       "                                                  Pipeline(steps=[('onhot',\n",
       "                                                                   OneHotEncoder(handle_unknown='ignore'))]),\n",
       "                                                  [7])])),\n",
       "                ('%logregressor', RandomForestClassifier())])"
      ]
     },
     "execution_count": 23,
     "metadata": {},
     "output_type": "execute_result"
    }
   ],
   "source": [
    "from sklearn.ensemble import RandomForestClassifier\n",
    "\n",
    "pipeline=Pipeline(steps=[('preprocessor',preprocessor),\n",
    "                        ('%logregressor',RandomForestClassifier(n_estimators=100))])\n",
    "\n",
    "model=pipeline.fit(x_train,(y_train))\n",
    "model"
   ]
  },
  {
   "cell_type": "code",
   "execution_count": 24,
   "metadata": {},
   "outputs": [
    {
     "name": "stdout",
     "output_type": "stream",
     "text": [
      "Confusion matrix:\n",
      " [[2855  131]\n",
      " [ 176 1338]] \n",
      "\n",
      "Accuracy Score: 0.9317777777777778\n",
      "Overall Precision: 0.9108236895847516\n",
      "Overall Recall: 0.8837516512549538\n",
      "AUC: 0.9822900970712289\n"
     ]
    },
    {
     "data": {
      "image/png": "[encoded data removed]",
      "text/plain": [
       "<Figure size 432x432 with 1 Axes>"
      ]
     },
     "metadata": {
      "needs_background": "light"
     },
     "output_type": "display_data"
    }
   ],
   "source": [
    "#get prediction fromtest data\n",
    "pred=model.predict(x_test)\n",
    "y_score=model.predict_proba(x_test)\n",
    "cm=confusion_matrix(y_test,pred)\n",
    "\n",
    "#get evaluation metrics\n",
    "print('Confusion matrix:\\n',cm,'\\n')\n",
    "print('Accuracy Score:',accuracy_score(y_test,pred))\n",
    "print('Overall Precision:',precision_score(y_test,pred))\n",
    "print('Overall Recall:',recall_score(y_test,pred))\n",
    "auc=roc_auc_score(y_test,y_score[:,1])\n",
    "print('AUC:',auc)\n",
    "\n",
    "\n",
    "#calu ROC curve\n",
    "fpr,tpr,thresholds=roc_curve(y_test,y_score[:,1])\n",
    "\n",
    "#plot ROC curve\n",
    "fig=plt.figure(figsize=(6,6))\n",
    "\n",
    "#plot the diagonal 50% line\n",
    "plt.plot([0,1],[0,1],'k--')\n",
    "\n",
    "#plot FPR and TPR achieved by thr model\n",
    "plt.plot(fpr,tpr)\n",
    "plt.xlabel('False Postive Rate')\n",
    "plt.ylabel('True Positive Rate')\n",
    "plt.title('ROC Curve');"
   ]
  },
  {
   "cell_type": "markdown",
   "metadata": {},
   "source": [
    "####  Save the model for further use"
   ]
  },
  {
   "cell_type": "code",
   "execution_count": 25,
   "metadata": {},
   "outputs": [
    {
     "data": {
      "text/plain": [
       "['./diabetes_model.pkl']"
      ]
     },
     "execution_count": 25,
     "metadata": {},
     "output_type": "execute_result"
    }
   ],
   "source": [
    "import joblib\n",
    "\n",
    "#save it as a pickle file\n",
    "filename='./diabetes_model.pkl'\n",
    "joblib.dump(model,filename)"
   ]
  },
  {
   "cell_type": "markdown",
   "metadata": {},
   "source": [
    "#####  using the model to predict new observation"
   ]
  },
  {
   "cell_type": "code",
   "execution_count": 26,
   "metadata": {},
   "outputs": [
    {
     "name": "stdout",
     "output_type": "stream",
     "text": [
      "New sample: [2.0, 180.0, 74.0, 24.0, 21.0, 23.90917, 1.488, 22.0]\n",
      "Preicted class: 1\n",
      "Diabetes Patient\n"
     ]
    }
   ],
   "source": [
    "model=joblib.load(filename)\n",
    "\n",
    "#predict a new patient with the following obsevation\n",
    "x_new=np.array([[2,180,74,24,21,23.90917,1.488,22]])\n",
    "print('New sample:',list(x_new[0]))\n",
    "\n",
    "#get prediction\n",
    "pred=model.predict(x_new)\n",
    "\n",
    "\n",
    "print('Preicted class:',pred[0])\n",
    "if pred==1:\n",
    "    print('Diabetes Patient')\n",
    "else:\n",
    "    print('Non-Disbetes')"
   ]
  },
  {
   "cell_type": "code",
   "execution_count": 27,
   "metadata": {},
   "outputs": [
    {
     "data": {
      "text/plain": [
       "'Diabetic'"
      ]
     },
     "execution_count": 27,
     "metadata": {},
     "output_type": "execute_result"
    }
   ],
   "source": [
    "label"
   ]
  },
  {
   "cell_type": "code",
   "execution_count": null,
   "metadata": {},
   "outputs": [],
   "source": []
  },
  {
   "cell_type": "code",
   "execution_count": null,
   "metadata": {},
   "outputs": [],
   "source": []
  },
  {
   "cell_type": "code",
   "execution_count": null,
   "metadata": {},
   "outputs": [],
   "source": []
  },
  {
   "cell_type": "code",
   "execution_count": null,
   "metadata": {},
   "outputs": [],
   "source": []
  }
 ],
 "metadata": {
  "kernelspec": {
   "display_name": "Python 3",
   "language": "python",
   "name": "python3"
  },
  "language_info": {
   "codemirror_mode": {
    "name": "ipython",
    "version": 3
   },
   "file_extension": ".py",
   "mimetype": "text/x-python",
   "name": "python",
   "nbconvert_exporter": "python",
   "pygments_lexer": "ipython3",
   "version": "3.8.3"
  }
 },
 "nbformat": 4,
 "nbformat_minor": 4
}
